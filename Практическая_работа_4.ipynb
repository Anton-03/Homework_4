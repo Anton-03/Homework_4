{
 "cells": [
  {
   "cell_type": "markdown",
   "metadata": {},
   "source": [
    "Задание 1"
   ]
  },
  {
   "cell_type": "code",
   "execution_count": 2,
   "metadata": {},
   "outputs": [
    {
     "name": "stdout",
     "output_type": "stream",
     "text": [
      "22\n",
      "2\n",
      "22\n"
     ]
    }
   ],
   "source": [
    "A = int(input())\n",
    "B = int(input())\n",
    "if A > B:\n",
    "    print(A)\n",
    "else:\n",
    "    print(B)"
   ]
  },
  {
   "cell_type": "markdown",
   "metadata": {},
   "source": [
    "Задание 2"
   ]
  },
  {
   "cell_type": "code",
   "execution_count": 3,
   "metadata": {},
   "outputs": [
    {
     "name": "stdout",
     "output_type": "stream",
     "text": [
      "1\n",
      "2\n",
      "2\n"
     ]
    }
   ],
   "source": [
    "A = int(input())\n",
    "B = int(input())\n",
    "if A>B:\n",
    "    print(1)\n",
    "elif A == B:\n",
    "    print(0)\n",
    "else: \n",
    "    print(2)\n",
    "    "
   ]
  },
  {
   "cell_type": "markdown",
   "metadata": {},
   "source": [
    "Задание 3"
   ]
  },
  {
   "cell_type": "code",
   "execution_count": 4,
   "metadata": {},
   "outputs": [
    {
     "name": "stdout",
     "output_type": "stream",
     "text": [
      "1\n",
      "2\n",
      "3\n",
      "3\n"
     ]
    }
   ],
   "source": [
    "A = int(input())\n",
    "B = int(input())\n",
    "C = int(input())\n",
    "if A>=B and A>=C:\n",
    "    print(A)\n",
    "elif B>=A and B>=C:\n",
    "    print(B)\n",
    "else:\n",
    "    print(C)"
   ]
  },
  {
   "cell_type": "markdown",
   "metadata": {},
   "source": [
    "Задание 4"
   ]
  },
  {
   "cell_type": "code",
   "execution_count": 5,
   "metadata": {},
   "outputs": [
    {
     "name": "stdout",
     "output_type": "stream",
     "text": [
      "4\n",
      "YES\n"
     ]
    }
   ],
   "source": [
    "N = int(input())\n",
    "if N%4 == 0 and N%100 != 0:\n",
    "    print('YES')\n",
    "elif N//400:\n",
    "    print('YES')\n",
    "else:\n",
    "    print('NO')"
   ]
  },
  {
   "cell_type": "markdown",
   "metadata": {},
   "source": [
    "Задание 5"
   ]
  },
  {
   "cell_type": "code",
   "execution_count": 6,
   "metadata": {},
   "outputs": [
    {
     "name": "stdout",
     "output_type": "stream",
     "text": [
      "4\n",
      "4\n",
      "5\n",
      "5\n",
      "YES\n"
     ]
    }
   ],
   "source": [
    "A = int(input())\n",
    "B = int(input())\n",
    "C = int(input())\n",
    "D = int(input())\n",
    "R=(A+B)-(C+D)\n",
    "if R > 0:\n",
    "    R=R\n",
    "else:\n",
    "    R=R*(-1)\n",
    "\n",
    "if R < 3 and R >0:\n",
    "    print('YES')\n",
    "else:\n",
    "    print('NO')"
   ]
  },
  {
   "cell_type": "markdown",
   "metadata": {},
   "source": [
    "Задание 6"
   ]
  },
  {
   "cell_type": "code",
   "execution_count": 7,
   "metadata": {},
   "outputs": [
    {
     "name": "stdout",
     "output_type": "stream",
     "text": [
      "11\n",
      "15\n",
      "YES\n"
     ]
    }
   ],
   "source": [
    "x, y = int(input()), int(input())\n",
    "if (x - 1) % (y - (x - 1)) == 0:\n",
    "    print('YES')\n",
    "else:\n",
    "    print('NO')"
   ]
  },
  {
   "cell_type": "markdown",
   "metadata": {},
   "source": [
    "Задание 7\n"
   ]
  },
  {
   "cell_type": "code",
   "execution_count": 10,
   "metadata": {},
   "outputs": [
    {
     "name": "stdout",
     "output_type": "stream",
     "text": [
      "1\n",
      "1\n",
      "6\n",
      "8\n",
      "YES\n"
     ]
    }
   ],
   "source": [
    "x, y, z, c = int(input()), int(input()), int(input()), int(input())\n",
    "if (x+y)%2==0 and (z+c)%2==0:\n",
    "    print('YES')\n",
    "else:\n",
    "    print('NO')"
   ]
  },
  {
   "cell_type": "markdown",
   "metadata": {},
   "source": [
    "Задание 8"
   ]
  },
  {
   "cell_type": "code",
   "execution_count": 16,
   "metadata": {},
   "outputs": [
    {
     "name": "stdout",
     "output_type": "stream",
     "text": [
      "2\n",
      "5\n",
      "4\n",
      "YES\n"
     ]
    }
   ],
   "source": [
    "n,m,k=int(input()),int(input()),int(input())\n",
    "if k < n * m and ((k % n == 0) or (k % m == 0)):\n",
    "    print('YES')\n",
    "else:\n",
    "    print('NO')"
   ]
  },
  {
   "cell_type": "markdown",
   "metadata": {},
   "source": [
    "Задание 9"
   ]
  },
  {
   "cell_type": "code",
   "execution_count": 31,
   "metadata": {},
   "outputs": [
    {
     "name": "stdout",
     "output_type": "stream",
     "text": [
      "24\n",
      "24 korovy\n"
     ]
    }
   ],
   "source": [
    "n = int(input())\n",
    "if n % 10 == 1 and n != 11:\n",
    "    print(n, 'korova')\n",
    "elif 2 <= n % 10 <= 4 and n // 10 != 1:\n",
    "    print(n, 'korovy')\n",
    "else:\n",
    "    print(n, 'korov')"
   ]
  },
  {
   "cell_type": "markdown",
   "metadata": {},
   "source": [
    "Задание 10"
   ]
  },
  {
   "cell_type": "code",
   "execution_count": 34,
   "metadata": {},
   "outputs": [
    {
     "name": "stdout",
     "output_type": "stream",
     "text": [
      "19\n",
      "1\n"
     ]
    }
   ],
   "source": [
    "x =int(input())\n",
    "if x>0:\n",
    "    print(1)\n",
    "elif x<0:\n",
    "    print(-1)\n",
    "else:\n",
    "    print(0)"
   ]
  },
  {
   "cell_type": "markdown",
   "metadata": {},
   "source": [
    "Задание 11"
   ]
  },
  {
   "cell_type": "code",
   "execution_count": null,
   "metadata": {},
   "outputs": [],
   "source": [
    "x1,y1,x2,y2 = int(input())\n"
   ]
  },
  {
   "cell_type": "code",
   "execution_count": 41,
   "metadata": {},
   "outputs": [
    {
     "name": "stdout",
     "output_type": "stream",
     "text": [
      "3\n",
      "3\n",
      "5\n",
      "6\n",
      "YES\n"
     ]
    }
   ],
   "source": [
    "x1=int(input())\n",
    "y1=int(input())\n",
    "x2=int(input())\n",
    "y2=int(input())\n",
    "if (y1>0 and y2>0) or (y1<0 and y2<0):\n",
    "    if (x1>0 and x2>0) or (x1<0 and x2<0):\n",
    "        print('YES')\n",
    "    else:\n",
    "        print('NO')\n",
    "else:\n",
    "    print('NO')"
   ]
  },
  {
   "cell_type": "markdown",
   "metadata": {},
   "source": [
    "Задание 12"
   ]
  },
  {
   "cell_type": "code",
   "execution_count": 68,
   "metadata": {},
   "outputs": [
    {
     "name": "stdout",
     "output_type": "stream",
     "text": [
      "5\n",
      "5\n",
      "6\n",
      "4\n",
      "YES\n"
     ]
    }
   ],
   "source": [
    "x, y, z, c = int(input()), int(input()), int(input()), int(input())\n",
    "if (x+y)%2==0 and (z+c)%2==0 and (x<z):\n",
    "    print('YES')\n",
    "else:\n",
    "    print('NO')\n",
    "\n"
   ]
  },
  {
   "cell_type": "markdown",
   "metadata": {},
   "source": [
    "Задание 13"
   ]
  },
  {
   "cell_type": "code",
   "execution_count": 76,
   "metadata": {},
   "outputs": [
    {
     "name": "stdout",
     "output_type": "stream",
     "text": [
      "3\n",
      "4\n",
      "5\n",
      "rectangular\n"
     ]
    }
   ],
   "source": [
    "a = int(input())\n",
    "b = int(input())\n",
    "c = int(input())\n",
    "if (c**2 == a**2 + b**2) or (a**2 == b**2 + c**2) or (b**2 == a**2 + c**2):\n",
    "    print(\"rectangular\")\n",
    "elif (c**2 < a**2 + b**2) or (a**2 < b**2 + c**2) or (b**2 < a**2 + c**2):\n",
    "    print(\"acute\")\n",
    "elif (c**2 > a**2 + b**2) or (a**2 > b**2 + c**2) or (b**2 > a**2 + c**2):\n",
    "    print(\"obtuse \")\n",
    "else:\n",
    "    print(\"impossible\")\n",
    "    "
   ]
  },
  {
   "cell_type": "markdown",
   "metadata": {},
   "source": [
    "Задание 14"
   ]
  },
  {
   "cell_type": "code",
   "execution_count": 78,
   "metadata": {},
   "outputs": [
    {
     "name": "stdout",
     "output_type": "stream",
     "text": [
      "3\n",
      "4\n",
      "5\n",
      "YES\n"
     ]
    }
   ],
   "source": [
    "a = int(input())\n",
    "b = int(input())\n",
    "c = int(input())\n",
    "if (a%2==0 or b%2==0 or c%2==0) and (a%2==1 or b%2==1 or c%2==1):\n",
    "    print('YES')\n",
    "else:\n",
    "    print('NO')"
   ]
  },
  {
   "cell_type": "markdown",
   "metadata": {},
   "source": [
    "Задание 15"
   ]
  },
  {
   "cell_type": "code",
   "execution_count": 95,
   "metadata": {},
   "outputs": [
    {
     "name": "stdout",
     "output_type": "stream",
     "text": [
      "4\n",
      "3\n",
      "4\n",
      "3 4 4\n"
     ]
    }
   ],
   "source": [
    "a, b, c = int(input()), int(input()), int(input())\n",
    "if a > b:\n",
    "    a, b = b, a\n",
    "if b > c:\n",
    "    b, c = c, b\n",
    "if a > b:\n",
    "    a, b = b, a\n",
    "print(a, b, c)"
   ]
  },
  {
   "cell_type": "markdown",
   "metadata": {},
   "source": [
    "Задание 16"
   ]
  },
  {
   "cell_type": "code",
   "execution_count": 112,
   "metadata": {},
   "outputs": [
    {
     "name": "stdout",
     "output_type": "stream",
     "text": [
      "7\n",
      "7\n",
      "7\n",
      "3\n"
     ]
    }
   ],
   "source": [
    "a, b, c = int(input()), int(input()), int(input())\n",
    "d=0\n",
    "if a == b:\n",
    "    d=d+1\n",
    "if b==c:\n",
    "    d=d+1\n",
    "if d==2:\n",
    "    print(3)\n",
    "elif d==1:\n",
    "    print(2)\n",
    "else:\n",
    "    print(0)"
   ]
  },
  {
   "cell_type": "markdown",
   "metadata": {},
   "source": [
    "Задание 17"
   ]
  },
  {
   "cell_type": "code",
   "execution_count": 117,
   "metadata": {},
   "outputs": [
    {
     "name": "stdout",
     "output_type": "stream",
     "text": [
      "3\n",
      "3\n",
      "3\n",
      "4\n",
      "4\n",
      "YES\n"
     ]
    }
   ],
   "source": [
    "a,b,c,d,e = int(input()),int(input()),int(input()),int(input()),int(input())\n",
    "if a <= d and b <= e or a <= e and b <= d:\n",
    "    print(\"YES\")\n",
    "elif c <= d and b <= e or c <= e and b <= d:\n",
    "    print(\"YES\")\n",
    "elif a <= d and c <= e or a <= e and c <= d:\n",
    "    print(\"YES\")\n",
    "else:\n",
    "    print(\"NO\")"
   ]
  },
  {
   "cell_type": "markdown",
   "metadata": {},
   "source": [
    "Задание 18"
   ]
  },
  {
   "cell_type": "code",
   "execution_count": 120,
   "metadata": {},
   "outputs": [
    {
     "name": "stdout",
     "output_type": "stream",
     "text": [
      "2\n",
      "2\n",
      "3\n",
      "3\n",
      "2\n",
      "1\n",
      "The first box is larger than the second one\n"
     ]
    }
   ],
   "source": [
    "A1,B1,C1 =int(input()),int(input()),int(input())\n",
    "A2,B2,C2 =int(input()),int(input()),int(input())\n",
    "if A1*B1*C1>A2*B2*C2:\n",
    "    print('The first box is larger than the second one')\n",
    "elif A1*B1*C1<A2*B2*C2:\n",
    "    print('The first box is smaller than the second one')\n",
    "elif A1*B1*C1==A2*B2*C2:\n",
    "    print('Boxes are equal')\n",
    "else:\n",
    "    print('Boxes are incomparable')"
   ]
  },
  {
   "cell_type": "markdown",
   "metadata": {},
   "source": [
    "Задание 19"
   ]
  },
  {
   "cell_type": "code",
   "execution_count": 129,
   "metadata": {},
   "outputs": [
    {
     "name": "stdout",
     "output_type": "stream",
     "text": [
      "7\n",
      "7\n",
      "7\n",
      "3\n",
      "3\n",
      "3\n",
      "8\n"
     ]
    }
   ],
   "source": [
    "A1,B1,C1 = int(input()),int(input()),int(input()),\n",
    "A2,B2,C2 = int(input()),int(input()),int(input()),\n",
    "\n",
    "D1 = (A1 // A2) * (B1 // B2) * (C1 // C2)\n",
    "D2 = (A1 // A2) * (C1 // B2) * (B1 // C2)\n",
    "D3 = (B1 // A2) * (C1 // B2) * (A1 // C2)\n",
    "D4 = (B1 // A2) * (A1 // B2) * (C1 // C2)\n",
    "D5 = (C1 // A2) * (A1 // B2) * (B1 // C2)\n",
    "D6 = (C1 // A2) * (B1 // B2) * (A1 // C2)\n",
    "\n",
    "if D1 >= D2:\n",
    "    D2 = D1\n",
    "if D3 >= D4:\n",
    "    D4 = D2\n",
    "if D5 >= D6:\n",
    "    D6 = D5\n",
    "\n",
    "if D2 >= D4 and D2 >= D6:\n",
    "    print(D2)\n",
    "elif D4 >= D6:\n",
    "    print(D4)\n",
    "else:\n",
    "    print(D6)"
   ]
  },
  {
   "cell_type": "markdown",
   "metadata": {},
   "source": [
    "Задание 20"
   ]
  },
  {
   "cell_type": "code",
   "execution_count": 144,
   "metadata": {},
   "outputs": [
    {
     "name": "stdout",
     "output_type": "stream",
     "text": [
      "8\n",
      "YES\n"
     ]
    }
   ],
   "source": [
    "k = int(input()) \n",
    "x = 3 \n",
    "y = 5\n",
    "\n",
    "if k%x==0 or k%y==0 or k%(x+y)==0: \n",
    "    print('YES') \n",
    "else:\n",
    "    print('NO')"
   ]
  },
  {
   "cell_type": "markdown",
   "metadata": {},
   "source": [
    "Задание 21"
   ]
  },
  {
   "cell_type": "code",
   "execution_count": 3,
   "metadata": {},
   "outputs": [
    {
     "name": "stdout",
     "output_type": "stream",
     "text": [
      "2\n",
      "-4\n",
      "7\n",
      "1\n",
      "2\n"
     ]
    }
   ],
   "source": [
    "a, b, c, d = int(input()), int(input()), int(input()), int(input())\n",
    "if a == 0 and b == 0:\n",
    "    print('INF')\n",
    "elif a == 0 or b * c == a * d:\n",
    "    print('NO')\n",
    "elif b % a == 0:\n",
    "    x = -b // a\n",
    "    print(x)\n",
    "else:\n",
    "    print('NO')"
   ]
  },
  {
   "cell_type": "markdown",
   "metadata": {},
   "source": [
    "Задание 22"
   ]
  },
  {
   "cell_type": "code",
   "execution_count": 2,
   "metadata": {},
   "outputs": [
    {
     "name": "stdout",
     "output_type": "stream",
     "text": [
      "1\n",
      "2\n",
      "3\n",
      "12\n"
     ]
    }
   ],
   "source": [
    "k,m,n=int(input()),int(input()),int(input())\n",
    "if n<=k:\n",
    "    print(int(2*m))\n",
    "elif (2*n)%k==0:\n",
    "    print(int(m*((2*n)//k)))\n",
    "else:\n",
    "    print(int(m*((n*2)//k+1)))"
   ]
  },
  {
   "cell_type": "markdown",
   "metadata": {},
   "source": [
    "Задание 23"
   ]
  },
  {
   "cell_type": "code",
   "execution_count": 161,
   "metadata": {},
   "outputs": [
    {
     "name": "stdout",
     "output_type": "stream",
     "text": [
      "1\n",
      "2\n",
      "9\n",
      "10\n",
      "12\n",
      "20\n",
      "3\n"
     ]
    }
   ],
   "source": [
    "l1, r1, l2 = int(input()), int(input()), int(input())\n",
    "r2, l3, r3 = int(input()), int(input()), int(input())\n",
    "if l2 > l3:\n",
    "    l = l2\n",
    "    r = r2\n",
    "    l2 = l3\n",
    "    r2 = r3\n",
    "    l3 = l\n",
    "    r3 = r\n",
    "if l1 > l3:\n",
    "    l = l3\n",
    "    r = r3\n",
    "    l3 = l1\n",
    "    r3 = r1\n",
    "    l1 = l\n",
    "    r1 = r\n",
    "if l1 > l2:\n",
    "    l = l1\n",
    "    r = r1\n",
    "    l1 = l2\n",
    "    r1 = r2\n",
    "    l2 = l\n",
    "    r2 = r\n",
    "f1 = r1 - l1\n",
    "f2 = r2 - l2\n",
    "f3 = r3 - l3\n",
    "g12 = l2 - r1\n",
    "g23 = l3 - r2\n",
    "if g12 <= 0 and g23 <= 0:\n",
    "    print(0)\n",
    "elif g12 <= 0 and g23 >= 0:\n",
    "    print(3)\n",
    "elif g12 >= 0 and g23 <= 0:\n",
    "    print(1)\n",
    "elif g12 <= f3 and g23 <= f1:\n",
    "    if f1 == f3:\n",
    "        print(1)\n",
    "    elif f1 < f3:\n",
    "        print(1)\n",
    "    else:\n",
    "        print(3)\n",
    "elif g12 <= f3:\n",
    "    print(3)\n",
    "elif g23 <= f1:\n",
    "    print(1)\n",
    "else:\n",
    "    print(-1)"
   ]
  },
  {
   "cell_type": "markdown",
   "metadata": {},
   "source": [
    "Задание 24"
   ]
  },
  {
   "cell_type": "code",
   "execution_count": 26,
   "metadata": {},
   "outputs": [
    {
     "name": "stdout",
     "output_type": "stream",
     "text": [
      "3\n",
      "2\n",
      "2\n",
      "3\n",
      "1\n",
      "2\n",
      "5\n",
      "2\n",
      "3\n",
      "NO\n"
     ]
    }
   ],
   "source": [
    "l1, w1, h1, l2, w2, h2, lc, wc, hc = int(input()), int(input()), int(input()), int(input()), int(input()), int(input()), int(input()), int(input()), int(input())\n",
    "l1 = max(l1, w1)\n",
    "w1 = min(l1, w1)\n",
    "l2 = max(l2, w2)\n",
    "w2 = min(l2, w2)\n",
    "lc = max(lc, wc)\n",
    "wc = min(lc, wc)\n",
    "flag = True\n",
    "if l1 <= lc and w1 <= wc and l2 <= lc and w2 <= wc:\n",
    "    if h1 > hc or h2 > hc: #10\n",
    "        print(\"NO\")\n",
    "    flag = False\n",
    "if (flag and l1 <= lc and w1 <= wc):\n",
    "    if (flag and l2 <= wc - w1 and w2 <= lc) or (flag and w2 <= wc - w1 and l2 <= lc):\n",
    "        print(\"YES\")#15\n",
    "    flag = False\n",
    "elif (flag and l2 <= lc - l1 and w2<=wc) or (flag and w2 <= lc - l1 and l2<=wc):\n",
    "    print(\"YES\")\n",
    "    flag = False\n",
    "if (flag and w1 <= lc and l1 <= wc):#20\n",
    "    if (flag and l2<=wc-l1 and w2<=lc) or (flag and w2<=wc-l1 and l2<=lc):\n",
    "        print(\"YES\")\n",
    "    flag = False\n",
    "elif (flag and l2<=lc-w1 and w2<=wc) or (flag and w2<=lc-w1 and l2<=wc):\n",
    "    print(\"YES\")\n",
    "    flag = False\n",
    "if (flag and h1+h2<=hc and l1<=lc and w1<=wc and l2<=lc and w2<=wc):\n",
    "    print(\"YES\")\n",
    "    flag = False\n",
    "elif (flag):\n",
    "    print(\"NO\")\n",
    "else:\n",
    "    print(\"NO\")"
   ]
  }
 ],
 "metadata": {
  "kernelspec": {
   "display_name": "Python 3",
   "language": "python",
   "name": "python3"
  },
  "language_info": {
   "codemirror_mode": {
    "name": "ipython",
    "version": 3
   },
   "file_extension": ".py",
   "mimetype": "text/x-python",
   "name": "python",
   "nbconvert_exporter": "python",
   "pygments_lexer": "ipython3",
   "version": "3.7.6"
  }
 },
 "nbformat": 4,
 "nbformat_minor": 4
}
